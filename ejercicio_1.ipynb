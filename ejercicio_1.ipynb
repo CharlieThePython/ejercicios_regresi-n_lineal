{
 "cells": [
  {
   "cell_type": "markdown",
   "id": "db41bae4-514e-45cc-baee-e1ff1dab403d",
   "metadata": {},
   "source": [
    "\n",
    "Ejercicio de Regresión Lineal Simple: Predicción de Ventas de Videoconsolas con un Solo Parámetro\n",
    "Contexto\n",
    "Eres un analista de datos en una empresa de tecnología que está interesada en predecir las ventas de sus nuevas videoconsolas. Tienes acceso a un conjunto de datos histórico que incluye características relevantes sobre las consolas vendidas en los últimos años. Tu tarea es construir un modelo de regresión lineal simple para predecir las ventas futuras utilizando solo una característica: Precio.\n",
    "\n",
    "Conjunto de Datos\n",
    "Tienes un archivo CSV llamado ventas_videoconsolas.csv que contiene la siguiente información:\n",
    "\n",
    "Año: El año en que se realizaron las ventas.\n",
    "Modelo: El modelo de la videoconsola.\n",
    "Precio: El precio de la videoconsola.\n",
    "Marketing: El presupuesto de marketing en millones de dólares.\n",
    "Reseñas: El promedio de puntuaciones de reseñas de los usuarios.\n",
    "Ventas: Las ventas totales en millones de unidades.\n",
    "Tareas\n",
    "Carga y Exploración de Datos:\n",
    "\n",
    "Importa el archivo CSV utilizando pandas y muestra las primeras filas del conjunto de datos.\n",
    "Realiza un análisis exploratorio de los datos (EDA), enfocándote en las variables Precio y Ventas.\n",
    "Preparación de Datos:\n",
    "\n",
    "Realiza la limpieza de datos si es necesario (manejo de valores nulos, eliminación de duplicados, etc.).\n",
    "Selecciona solo las columnas Precio y Ventas para este ejercicio.\n",
    "División de Datos:\n",
    "\n",
    "Divide el conjunto de datos en conjuntos de entrenamiento y prueba (80% entrenamiento, 20% prueba).\n",
    "Construcción del Modelo:\n",
    "\n",
    "Utiliza sklearn.linear_model.LinearRegression para construir un modelo de regresión lineal simple utilizando Precio como la característica predictora.\n",
    "Entrena el modelo utilizando el conjunto de entrenamiento.\n",
    "Evaluación del Modelo:\n",
    "\n",
    "Evalúa el rendimiento del modelo en el conjunto de prueba utilizando métricas adecuadas (por ejemplo, MSE, R²).\n",
    "Genera una gráfica de predicciones vs. valores reales para visualizar el rendimiento del modelo.\n",
    "Optimización del Modelo:\n",
    "\n",
    "Implementa la técnica de Gradiente Descendente manualmente utilizando numpy para ajustar los parámetros del modelo considerando solo la característica Precio.\n",
    "Compara los resultados del modelo optimizado manualmente con los obtenidos utilizando sklearn.\n",
    "Entregables\n",
    "Un archivo Jupyter Notebook (ventas_videoconsolas_regresion_simple.ipynb) que incluya:\n",
    "Código y resultados de cada una de las tareas descritas anteriormente.\n",
    "Comentarios y análisis de los resultados obtenidos.\n",
    "Conclusiones sobre el rendimiento del modelo y posibles mejoras."
   ]
  },
  {
   "cell_type": "code",
   "execution_count": 168,
   "id": "f37fe238-8b7f-48c9-9cf4-ab1a7b1ccb2c",
   "metadata": {},
   "outputs": [
    {
     "name": "stdout",
     "output_type": "stream",
     "text": [
      "La longitud del conjunto de datos es: 50\n"
     ]
    },
    {
     "data": {
      "text/plain": [
       "array([485, 372, 495, 381, 458, 406, 360, 496, 213, 443, 320, 315, 304,\n",
       "       380, 264, 300, 257, 412, 450, 239, 330, 246, 373, 242, 344, 482,\n",
       "       496, 258, 370, 375, 216, 491, 440, 408, 422, 451, 240, 226, 233,\n",
       "       406, 431, 226, 485, 390, 350, 293, 427, 465, 256, 389])"
      ]
     },
     "execution_count": 168,
     "metadata": {},
     "output_type": "execute_result"
    }
   ],
   "source": [
    "import numpy as np\n",
    "# Datos ficticios coherentes\n",
    "data = {\n",
    "    'Año': np.random.choice(range(2020, 2025), 50),\n",
    "    'Modelo': [f'Modelo{i}' for i in range(1, 51)],\n",
    "    'Precio': np.random.randint(200, 500, 50),\n",
    "    'Marketing': np.random.randint(10, 35, 50),\n",
    "    'Reseñas': np.random.uniform(3.0, 5.0, 50).round(1),\n",
    "    'Ventas': np.round(2.5 - 0.005 * np.random.randint(200, 500, 50) + 0.3 * np.random.uniform(3.0, 5.0, 50), 2)\n",
    "}\n",
    "X = np.array(data['Precio'])\n",
    "y = np.array(data['Ventas'])\n",
    "\n",
    "print(\"La longitud del conjunto de datos es:\", len(X))\n",
    "X"
   ]
  },
  {
   "cell_type": "code",
   "execution_count": 170,
   "id": "2ad4f69a-6713-4fbc-b719-df8957a76c36",
   "metadata": {},
   "outputs": [],
   "source": [
    "import matplotlib.pyplot as plt\n",
    "%matplotlib inline"
   ]
  },
  {
   "cell_type": "code",
   "execution_count": 172,
   "id": "87bf250d-a545-4eeb-8985-5db987634b0c",
   "metadata": {},
   "outputs": [
    {
     "data": {
      "image/png": "[encoded data removed]",
      "text/plain": [
       "<Figure size 640x480 with 1 Axes>"
      ]
     },
     "metadata": {},
     "output_type": "display_data"
    }
   ],
   "source": [
    "plt.plot(X,y,\"b.\")\n",
    "plt.xlabel(\"Precio\")\n",
    "plt.ylabel(\"Ventas (u/1000000)\")\n",
    "plt.show()"
   ]
  },
  {
   "cell_type": "code",
   "execution_count": 174,
   "id": "a8bc1d1d-889a-439d-a372-3615e1c59c5f",
   "metadata": {},
   "outputs": [],
   "source": [
    "import pandas as pd"
   ]
  },
  {
   "cell_type": "code",
   "execution_count": 176,
   "id": "ea5d7028-9771-4b52-a411-62cf277035d8",
   "metadata": {},
   "outputs": [
    {
     "data": {
      "text/html": [
       "<div>\n",
       "<style scoped>\n",
       "    .dataframe tbody tr th:only-of-type {\n",
       "        vertical-align: middle;\n",
       "    }\n",
       "\n",
       "    .dataframe tbody tr th {\n",
       "        vertical-align: top;\n",
       "    }\n",
       "\n",
       "    .dataframe thead th {\n",
       "        text-align: right;\n",
       "    }\n",
       "</style>\n",
       "<table border=\"1\" class=\"dataframe\">\n",
       "  <thead>\n",
       "    <tr style=\"text-align: right;\">\n",
       "      <th></th>\n",
       "      <th>Precio</th>\n",
       "      <th>Ventas</th>\n",
       "    </tr>\n",
       "  </thead>\n",
       "  <tbody>\n",
       "    <tr>\n",
       "      <th>0</th>\n",
       "      <td>485</td>\n",
       "      <td>1.47</td>\n",
       "    </tr>\n",
       "    <tr>\n",
       "      <th>1</th>\n",
       "      <td>372</td>\n",
       "      <td>1.78</td>\n",
       "    </tr>\n",
       "    <tr>\n",
       "      <th>2</th>\n",
       "      <td>495</td>\n",
       "      <td>1.79</td>\n",
       "    </tr>\n",
       "    <tr>\n",
       "      <th>3</th>\n",
       "      <td>381</td>\n",
       "      <td>1.26</td>\n",
       "    </tr>\n",
       "    <tr>\n",
       "      <th>4</th>\n",
       "      <td>458</td>\n",
       "      <td>2.00</td>\n",
       "    </tr>\n",
       "    <tr>\n",
       "      <th>5</th>\n",
       "      <td>406</td>\n",
       "      <td>2.64</td>\n",
       "    </tr>\n",
       "    <tr>\n",
       "      <th>6</th>\n",
       "      <td>360</td>\n",
       "      <td>1.77</td>\n",
       "    </tr>\n",
       "    <tr>\n",
       "      <th>7</th>\n",
       "      <td>496</td>\n",
       "      <td>2.66</td>\n",
       "    </tr>\n",
       "    <tr>\n",
       "      <th>8</th>\n",
       "      <td>213</td>\n",
       "      <td>1.41</td>\n",
       "    </tr>\n",
       "    <tr>\n",
       "      <th>9</th>\n",
       "      <td>443</td>\n",
       "      <td>2.30</td>\n",
       "    </tr>\n",
       "  </tbody>\n",
       "</table>\n",
       "</div>"
      ],
      "text/plain": [
       "   Precio  Ventas\n",
       "0     485    1.47\n",
       "1     372    1.78\n",
       "2     495    1.79\n",
       "3     381    1.26\n",
       "4     458    2.00\n",
       "5     406    2.64\n",
       "6     360    1.77\n",
       "7     496    2.66\n",
       "8     213    1.41\n",
       "9     443    2.30"
      ]
     },
     "execution_count": 176,
     "metadata": {},
     "output_type": "execute_result"
    }
   ],
   "source": [
    "data = {'Precio': X.flatten(), 'Ventas': y.flatten()}\n",
    "df = pd.DataFrame(data)\n",
    "\n",
    "df.head(10)"
   ]
  },
  {
   "cell_type": "code",
   "execution_count": 178,
   "id": "bbedf4c3-e58d-417b-9abf-a470320ead20",
   "metadata": {},
   "outputs": [
    {
     "data": {
      "text/html": [
       "<div>\n",
       "<style scoped>\n",
       "    .dataframe tbody tr th:only-of-type {\n",
       "        vertical-align: middle;\n",
       "    }\n",
       "\n",
       "    .dataframe tbody tr th {\n",
       "        vertical-align: top;\n",
       "    }\n",
       "\n",
       "    .dataframe thead th {\n",
       "        text-align: right;\n",
       "    }\n",
       "</style>\n",
       "<table border=\"1\" class=\"dataframe\">\n",
       "  <thead>\n",
       "    <tr style=\"text-align: right;\">\n",
       "      <th></th>\n",
       "      <th>Precio</th>\n",
       "      <th>Ventas</th>\n",
       "    </tr>\n",
       "  </thead>\n",
       "  <tbody>\n",
       "    <tr>\n",
       "      <th>0</th>\n",
       "      <td>485</td>\n",
       "      <td>1470000</td>\n",
       "    </tr>\n",
       "    <tr>\n",
       "      <th>1</th>\n",
       "      <td>372</td>\n",
       "      <td>1780000</td>\n",
       "    </tr>\n",
       "    <tr>\n",
       "      <th>2</th>\n",
       "      <td>495</td>\n",
       "      <td>1790000</td>\n",
       "    </tr>\n",
       "    <tr>\n",
       "      <th>3</th>\n",
       "      <td>381</td>\n",
       "      <td>1260000</td>\n",
       "    </tr>\n",
       "    <tr>\n",
       "      <th>4</th>\n",
       "      <td>458</td>\n",
       "      <td>2000000</td>\n",
       "    </tr>\n",
       "    <tr>\n",
       "      <th>5</th>\n",
       "      <td>406</td>\n",
       "      <td>2640000</td>\n",
       "    </tr>\n",
       "    <tr>\n",
       "      <th>6</th>\n",
       "      <td>360</td>\n",
       "      <td>1770000</td>\n",
       "    </tr>\n",
       "    <tr>\n",
       "      <th>7</th>\n",
       "      <td>496</td>\n",
       "      <td>2660000</td>\n",
       "    </tr>\n",
       "    <tr>\n",
       "      <th>8</th>\n",
       "      <td>213</td>\n",
       "      <td>1410000</td>\n",
       "    </tr>\n",
       "    <tr>\n",
       "      <th>9</th>\n",
       "      <td>443</td>\n",
       "      <td>2300000</td>\n",
       "    </tr>\n",
       "  </tbody>\n",
       "</table>\n",
       "</div>"
      ],
      "text/plain": [
       "   Precio   Ventas\n",
       "0     485  1470000\n",
       "1     372  1780000\n",
       "2     495  1790000\n",
       "3     381  1260000\n",
       "4     458  2000000\n",
       "5     406  2640000\n",
       "6     360  1770000\n",
       "7     496  2660000\n",
       "8     213  1410000\n",
       "9     443  2300000"
      ]
     },
     "execution_count": 178,
     "metadata": {},
     "output_type": "execute_result"
    }
   ],
   "source": [
    "#Ajustamos el escalado del número de ventas\n",
    "df['Ventas'] = df['Ventas']*1000000\n",
    "df['Ventas'] = df['Ventas'].astype('int')\n",
    "df.head(10)"
   ]
  },
  {
   "cell_type": "code",
   "execution_count": 180,
   "id": "d6e030b6-f5d7-417c-a3f5-6692dcf58ebb",
   "metadata": {},
   "outputs": [
    {
     "data": {
      "image/png": "[encoded data removed]",
      "text/plain": [
       "<Figure size 640x480 with 1 Axes>"
      ]
     },
     "metadata": {},
     "output_type": "display_data"
    }
   ],
   "source": [
    "plt.plot(df['Precio'],df['Ventas'],\"b.\")\n",
    "plt.xlabel(\"Precios\")\n",
    "plt.ylabel(\"Número de Ventas\")\n",
    "plt.show()"
   ]
  },
  {
   "cell_type": "markdown",
   "id": "df73cca6-3a38-4e79-bc47-80608a56bd54",
   "metadata": {},
   "source": [
    "Construimos el Modelo"
   ]
  },
  {
   "cell_type": "code",
   "execution_count": 182,
   "id": "07ff1e5d-be8e-43a1-883a-76c68bd68459",
   "metadata": {},
   "outputs": [],
   "source": [
    "from sklearn.linear_model import LinearRegression"
   ]
  },
  {
   "cell_type": "code",
   "execution_count": 187,
   "id": "d6ccbfd6-0840-404f-a687-dc49a62425a5",
   "metadata": {},
   "outputs": [
    {
     "data": {
      "text/html": [
       "<style>#sk-container-id-1 {color: black;background-color: white;}#sk-container-id-1 pre{padding: 0;}#sk-container-id-1 div.sk-toggleable {background-color: white;}#sk-container-id-1 label.sk-toggleable__label {cursor: pointer;display: block;width: 100%;margin-bottom: 0;padding: 0.3em;box-sizing: border-box;text-align: center;}#sk-container-id-1 label.sk-toggleable__label-arrow:before {content: \"▸\";float: left;margin-right: 0.25em;color: #696969;}#sk-container-id-1 label.sk-toggleable__label-arrow:hover:before {color: black;}#sk-container-id-1 div.sk-estimator:hover label.sk-toggleable__label-arrow:before {color: black;}#sk-container-id-1 div.sk-toggleable__content {max-height: 0;max-width: 0;overflow: hidden;text-align: left;background-color: #f0f8ff;}#sk-container-id-1 div.sk-toggleable__content pre {margin: 0.2em;color: black;border-radius: 0.25em;background-color: #f0f8ff;}#sk-container-id-1 input.sk-toggleable__control:checked~div.sk-toggleable__content {max-height: 200px;max-width: 100%;overflow: auto;}#sk-container-id-1 input.sk-toggleable__control:checked~label.sk-toggleable__label-arrow:before {content: \"▾\";}#sk-container-id-1 div.sk-estimator input.sk-toggleable__control:checked~label.sk-toggleable__label {background-color: #d4ebff;}#sk-container-id-1 div.sk-label input.sk-toggleable__control:checked~label.sk-toggleable__label {background-color: #d4ebff;}#sk-container-id-1 input.sk-hidden--visually {border: 0;clip: rect(1px 1px 1px 1px);clip: rect(1px, 1px, 1px, 1px);height: 1px;margin: -1px;overflow: hidden;padding: 0;position: absolute;width: 1px;}#sk-container-id-1 div.sk-estimator {font-family: monospace;background-color: #f0f8ff;border: 1px dotted black;border-radius: 0.25em;box-sizing: border-box;margin-bottom: 0.5em;}#sk-container-id-1 div.sk-estimator:hover {background-color: #d4ebff;}#sk-container-id-1 div.sk-parallel-item::after {content: \"\";width: 100%;border-bottom: 1px solid gray;flex-grow: 1;}#sk-container-id-1 div.sk-label:hover label.sk-toggleable__label {background-color: #d4ebff;}#sk-container-id-1 div.sk-serial::before {content: \"\";position: absolute;border-left: 1px solid gray;box-sizing: border-box;top: 0;bottom: 0;left: 50%;z-index: 0;}#sk-container-id-1 div.sk-serial {display: flex;flex-direction: column;align-items: center;background-color: white;padding-right: 0.2em;padding-left: 0.2em;position: relative;}#sk-container-id-1 div.sk-item {position: relative;z-index: 1;}#sk-container-id-1 div.sk-parallel {display: flex;align-items: stretch;justify-content: center;background-color: white;position: relative;}#sk-container-id-1 div.sk-item::before, #sk-container-id-1 div.sk-parallel-item::before {content: \"\";position: absolute;border-left: 1px solid gray;box-sizing: border-box;top: 0;bottom: 0;left: 50%;z-index: -1;}#sk-container-id-1 div.sk-parallel-item {display: flex;flex-direction: column;z-index: 1;position: relative;background-color: white;}#sk-container-id-1 div.sk-parallel-item:first-child::after {align-self: flex-end;width: 50%;}#sk-container-id-1 div.sk-parallel-item:last-child::after {align-self: flex-start;width: 50%;}#sk-container-id-1 div.sk-parallel-item:only-child::after {width: 0;}#sk-container-id-1 div.sk-dashed-wrapped {border: 1px dashed gray;margin: 0 0.4em 0.5em 0.4em;box-sizing: border-box;padding-bottom: 0.4em;background-color: white;}#sk-container-id-1 div.sk-label label {font-family: monospace;font-weight: bold;display: inline-block;line-height: 1.2em;}#sk-container-id-1 div.sk-label-container {text-align: center;}#sk-container-id-1 div.sk-container {/* jupyter's `normalize.less` sets `[hidden] { display: none; }` but bootstrap.min.css set `[hidden] { display: none !important; }` so we also need the `!important` here to be able to override the default hidden behavior on the sphinx rendered scikit-learn.org. See: https://github.com/scikit-learn/scikit-learn/issues/21755 */display: inline-block !important;position: relative;}#sk-container-id-1 div.sk-text-repr-fallback {display: none;}</style><div id=\"sk-container-id-1\" class=\"sk-top-container\"><div class=\"sk-text-repr-fallback\"><pre>LinearRegression()</pre><b>In a Jupyter environment, please rerun this cell to show the HTML representation or trust the notebook. <br />On GitHub, the HTML representation is unable to render, please try loading this page with nbviewer.org.</b></div><div class=\"sk-container\" hidden><div class=\"sk-item\"><div class=\"sk-estimator sk-toggleable\"><input class=\"sk-toggleable__control sk-hidden--visually\" id=\"sk-estimator-id-1\" type=\"checkbox\" checked><label for=\"sk-estimator-id-1\" class=\"sk-toggleable__label sk-toggleable__label-arrow\">LinearRegression</label><div class=\"sk-toggleable__content\"><pre>LinearRegression()</pre></div></div></div></div></div>"
      ],
      "text/plain": [
       "LinearRegression()"
      ]
     },
     "execution_count": 187,
     "metadata": {},
     "output_type": "execute_result"
    }
   ],
   "source": [
    "lin_reg = LinearRegression()\n",
    "lin_reg.fit(df['Precio'].values.reshape(-1, 1), df['Ventas'].values)"
   ]
  },
  {
   "cell_type": "code",
   "execution_count": 189,
   "id": "1166e325-a5a9-407e-aeb1-c994c9b84806",
   "metadata": {},
   "outputs": [
    {
     "data": {
      "text/plain": [
       "1590282.9971830067"
      ]
     },
     "execution_count": 189,
     "metadata": {},
     "output_type": "execute_result"
    }
   ],
   "source": [
    "lin_reg.intercept_"
   ]
  },
  {
   "cell_type": "code",
   "execution_count": 191,
   "id": "e267ea56-7100-4173-acdd-63ea79b331f8",
   "metadata": {},
   "outputs": [
    {
     "data": {
      "text/plain": [
       "array([1088.6119011])"
      ]
     },
     "execution_count": 191,
     "metadata": {},
     "output_type": "execute_result"
    }
   ],
   "source": [
    "lin_reg.coef_"
   ]
  },
  {
   "cell_type": "code",
   "execution_count": 193,
   "id": "59b6930d-7f98-4788-9284-94d0647200b8",
   "metadata": {},
   "outputs": [],
   "source": [
    "# Predicción para el valor mínimo y máximo del conjunto de datos de entrenamiento\n",
    "X_min_max = np.array([[df[\"Precio\"].min()], [df[\"Precio\"].max()]])\n",
    "y_train_pred = lin_reg.predict(X_min_max)"
   ]
  },
  {
   "cell_type": "code",
   "execution_count": 195,
   "id": "c00a5f09-7109-4442-bfef-7c3002b0a2ee",
   "metadata": {},
   "outputs": [
    {
     "data": {
      "image/png": "[encoded data removed]",
      "text/plain": [
       "<Figure size 640x480 with 1 Axes>"
      ]
     },
     "metadata": {},
     "output_type": "display_data"
    }
   ],
   "source": [
    "# Representación gráfica de la función hipótesis generada\n",
    "plt.plot(X_min_max, y_train_pred, \"g-\")\n",
    "plt.plot(df['Precio'],df['Ventas'],\"b.\")\n",
    "plt.xlabel(\"Precios\")\n",
    "plt.ylabel(\"Número de Ventas\")\n",
    "plt.show()"
   ]
  },
  {
   "cell_type": "markdown",
   "id": "96cd6f96-0265-412a-b180-462849b21d8a",
   "metadata": {},
   "source": [
    "Predicción de nuevos ejemplos:"
   ]
  },
  {
   "cell_type": "code",
   "execution_count": 201,
   "id": "6a864886-9a1f-4581-bb93-8e8ebec754fc",
   "metadata": {},
   "outputs": [
    {
     "name": "stdout",
     "output_type": "stream",
     "text": [
      "El número de ventas prevista sería: 1916866 €\n"
     ]
    }
   ],
   "source": [
    "x_new = np.array([[300]]) #Videoconsola de 200 euros\n",
    "\n",
    "#Predicción del número de ventas\n",
    "predicted_sells = lin_reg.predict(x_new)\n",
    "\n",
    "print(\"El número de ventas prevista sería:\", int(predicted_sells[0]), \"€\")"
   ]
  },
  {
   "cell_type": "code",
   "execution_count": 203,
   "id": "d5a0366f-91b5-4276-8c8e-59e26d414166",
   "metadata": {},
   "outputs": [
    {
     "data": {
      "image/png": "[encoded data removed]",
      "text/plain": [
       "<Figure size 640x480 with 1 Axes>"
      ]
     },
     "metadata": {},
     "output_type": "display_data"
    }
   ],
   "source": [
    "plt.plot(df['Precio'], df['Ventas'], \"b.\")\n",
    "plt.plot(X_min_max, y_train_pred, \"g-\")\n",
    "plt.plot(x_new, predicted_sells, \"rx\")\n",
    "plt.xlabel(\"Precios\")\n",
    "plt.ylabel(\"Ventas\")\n",
    "plt.show()"
   ]
  },
  {
   "cell_type": "code",
   "execution_count": null,
   "id": "a0db1f74-dce6-46de-9f56-088b08b3d296",
   "metadata": {},
   "outputs": [],
   "source": []
  }
 ],
 "metadata": {
  "kernelspec": {
   "display_name": "Python 3 (ipykernel)",
   "language": "python",
   "name": "python3"
  },
  "language_info": {
   "codemirror_mode": {
    "name": "ipython",
    "version": 3
   },
   "file_extension": ".py",
   "mimetype": "text/x-python",
   "name": "python",
   "nbconvert_exporter": "python",
   "pygments_lexer": "ipython3",
   "version": "3.11.7"
  }
 },
 "nbformat": 4,
 "nbformat_minor": 5
}
